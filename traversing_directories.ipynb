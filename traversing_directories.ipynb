{
 "cells": [
  {
   "cell_type": "code",
   "execution_count": 1,
   "metadata": {},
   "outputs": [],
   "source": [
    "import os"
   ]
  },
  {
   "cell_type": "code",
   "execution_count": 2,
   "metadata": {},
   "outputs": [],
   "source": [
    "def travel_dir (ruta, dicc):\n",
    "    if len(os.listdir(ruta)) == 0:\n",
    "        dicc[ruta] = 0\n",
    "    else:\n",
    "        for elemento in os.listdir(ruta):\n",
    "            dicc[ruta] = len(os.listdir(ruta))\n",
    "            if os.path.isdir(ruta + \"/\"+ elemento):\n",
    "                travel_dir(ruta + \"/\" + elemento, dicc)\n",
    "    return dicc"
   ]
  },
  {
   "cell_type": "code",
   "execution_count": 3,
   "metadata": {},
   "outputs": [
    {
     "data": {
      "text/plain": [
       "{'test': 3,\n",
       " 'test/b': 3,\n",
       " 'test/b/g': 1,\n",
       " 'test/hola': 2,\n",
       " 'test/hola/adios': 0,\n",
       " 'test/hola/q tal': 1}"
      ]
     },
     "execution_count": 3,
     "metadata": {},
     "output_type": "execute_result"
    }
   ],
   "source": [
    "travel_dir (\"test\", {})"
   ]
  }
 ],
 "metadata": {
  "kernelspec": {
   "display_name": "Python 3",
   "language": "python",
   "name": "python3"
  },
  "language_info": {
   "codemirror_mode": {
    "name": "ipython",
    "version": 3
   },
   "file_extension": ".py",
   "mimetype": "text/x-python",
   "name": "python",
   "nbconvert_exporter": "python",
   "pygments_lexer": "ipython3",
   "version": "3.11.9"
  }
 },
 "nbformat": 4,
 "nbformat_minor": 2
}
