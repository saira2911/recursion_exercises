{
 "cells": [
  {
   "cell_type": "code",
   "execution_count": 11,
   "metadata": {},
   "outputs": [],
   "source": [
    "tree = {'A':{'B':{'C':None, 'D':{'E':None, 'F':None}}, 'G':{'H':None, 'I':{'J':None}}}}"
   ]
  },
  {
   "cell_type": "code",
   "execution_count": 12,
   "metadata": {},
   "outputs": [],
   "source": [
    "def recorrido(arbol, padre, profundidad, lista_recorrido, dic_profundidad):\n",
    "    if not arbol: #base case, when child is None\n",
    "        return\n",
    "    for k in arbol.keys():\n",
    "        dic_profundidad[k] = profundidad\n",
    "        lista_recorrido.append(k)\n",
    "        #call the function\n",
    "        recorrido(arbol[k], k, profundidad+1, lista_recorrido, dic_profundidad)\n",
    "        if padre:\n",
    "            lista_recorrido.append(padre)\n",
    "    return lista_recorrido, dic_profundidad"
   ]
  },
  {
   "cell_type": "code",
   "execution_count": 13,
   "metadata": {},
   "outputs": [],
   "source": [
    "recorrido_total, profundidades = recorrido(tree, None, 0, [], {})"
   ]
  },
  {
   "cell_type": "code",
   "execution_count": 14,
   "metadata": {},
   "outputs": [],
   "source": [
    "def ancestro_comun(nodo1, nodo2, camino, profundidades):\n",
    "    ubicacion_nodo1 = []\n",
    "    ubicacion_nodo2 = []\n",
    "    \n",
    "    for i in range(len(camino)):\n",
    "        if camino[i] == nodo1:\n",
    "            ubicacion_nodo1.append(i)\n",
    "        if camino[i] == nodo2:\n",
    "            ubicacion_nodo2.append(i)\n",
    "            \n",
    "    min_index = min(min(ubicacion_nodo1),min(ubicacion_nodo2))\n",
    "    max_index = max(max(ubicacion_nodo1),max(ubicacion_nodo2))\n",
    "    camino_segment = camino[min_index:max_index+1]\n",
    "    interval_depth = []\n",
    "    \n",
    "    for s in camino_segment:\n",
    "        interval_depth.append(profundidades[s])\n",
    "    min_interval = min(interval_depth)\n",
    "    lca_result = camino_segment[interval_depth.index(min_interval)]\n",
    "    return lca_result"
   ]
  },
  {
   "cell_type": "code",
   "execution_count": 15,
   "metadata": {},
   "outputs": [
    {
     "data": {
      "text/plain": [
       "'B'"
      ]
     },
     "execution_count": 15,
     "metadata": {},
     "output_type": "execute_result"
    }
   ],
   "source": [
    "ancestro_comun('C', 'D', recorrido_total, profundidades)"
   ]
  }
 ],
 "metadata": {
  "kernelspec": {
   "display_name": "Python 3",
   "language": "python",
   "name": "python3"
  },
  "language_info": {
   "codemirror_mode": {
    "name": "ipython",
    "version": 3
   },
   "file_extension": ".py",
   "mimetype": "text/x-python",
   "name": "python",
   "nbconvert_exporter": "python",
   "pygments_lexer": "ipython3",
   "version": "3.11.9"
  }
 },
 "nbformat": 4,
 "nbformat_minor": 2
}
